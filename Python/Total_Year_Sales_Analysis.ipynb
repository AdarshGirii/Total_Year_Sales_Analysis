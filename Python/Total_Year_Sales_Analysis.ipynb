{
 "cells": [
  {
   "cell_type": "markdown",
   "id": "2dd51b21",
   "metadata": {},
   "source": [
    "# Importing libraries"
   ]
  },
  {
   "cell_type": "code",
   "execution_count": 1,
   "id": "a6d5e856",
   "metadata": {},
   "outputs": [],
   "source": [
    "import os\n",
    "import pandas as pd\n",
    "from matplotlib import pyplot as plt \n",
    "%matplotlib inline\n",
    "import calendar\n",
    "import seaborn as sns\n",
    "pd.options.mode.chained_assignment = None  # default='warn'"
   ]
  },
  {
   "cell_type": "markdown",
   "id": "4cc1d00f",
   "metadata": {},
   "source": [
    "# 1. Data Preparation"
   ]
  },
  {
   "cell_type": "markdown",
   "id": "154f65ed",
   "metadata": {},
   "source": [
    "<b> 1.1 Write a python program to merge data from each month into one CSV and read in updated dataframe."
   ]
  },
  {
   "cell_type": "code",
   "execution_count": 2,
   "id": "57026c8e",
   "metadata": {},
   "outputs": [
    {
     "name": "stdout",
     "output_type": "stream",
     "text": [
      "Sales_April_2019.csv\n",
      "Sales_August_2019.csv\n",
      "Sales_December_2019.csv\n",
      "Sales_February_2019.csv\n",
      "Sales_January_2019.csv\n",
      "Sales_July_2019.csv\n",
      "Sales_June_2019.csv\n",
      "Sales_March_2019.csv\n",
      "Sales_May_2019.csv\n",
      "Sales_November_2019.csv\n",
      "Sales_October_2019.csv\n",
      "Sales_September_2019.csv\n"
     ]
    }
   ],
   "source": [
    "# giving Sales files location\n",
    "dirPath = '../Sales Files/'\n",
    "# looping in dirPath\n",
    "for files in os.listdir(dirPath):\n",
    "    print(files) # printing all files in dirPath"
   ]
  },
  {
   "cell_type": "code",
   "execution_count": 3,
   "id": "105a3040",
   "metadata": {},
   "outputs": [],
   "source": [
    "# creating an empty DataFrame\n",
    "totalYearSales = pd.DataFrame()\n",
    "# looping in dirPath\n",
    "for files in os.listdir(dirPath):\n",
    "    if files.endswith('.csv'):\n",
    "        # building the full path to the files\n",
    "        filepath = os.path.join(dirPath, files) \n",
    "        # reading the all files into DataFrame\n",
    "        df = pd.read_csv(filepath)   \n",
    "        # concatenating the data from the CSV file to the totalYearSales DataFrame\n",
    "        totalYearSales = pd.concat([totalYearSales, df])\n",
    "# converting DataFrame to csv file\n",
    "totalYearSales.to_csv('totalYearSales.csv', index=0)"
   ]
  },
  {
   "cell_type": "code",
   "execution_count": 4,
   "id": "9b7b7ffd",
   "metadata": {},
   "outputs": [
    {
     "data": {
      "text/html": [
       "<div>\n",
       "<style scoped>\n",
       "    .dataframe tbody tr th:only-of-type {\n",
       "        vertical-align: middle;\n",
       "    }\n",
       "\n",
       "    .dataframe tbody tr th {\n",
       "        vertical-align: top;\n",
       "    }\n",
       "\n",
       "    .dataframe thead th {\n",
       "        text-align: right;\n",
       "    }\n",
       "</style>\n",
       "<table border=\"1\" class=\"dataframe\">\n",
       "  <thead>\n",
       "    <tr style=\"text-align: right;\">\n",
       "      <th></th>\n",
       "      <th>Order ID</th>\n",
       "      <th>Product</th>\n",
       "      <th>Quantity Ordered</th>\n",
       "      <th>Price Each</th>\n",
       "      <th>Order Date</th>\n",
       "      <th>Purchase Address</th>\n",
       "    </tr>\n",
       "  </thead>\n",
       "  <tbody>\n",
       "    <tr>\n",
       "      <th>0</th>\n",
       "      <td>176558.0</td>\n",
       "      <td>USB-C Charging Cable</td>\n",
       "      <td>2.0</td>\n",
       "      <td>11.95</td>\n",
       "      <td>4/19/2019 8:46</td>\n",
       "      <td>917 1st St, Dallas, TX 75001</td>\n",
       "    </tr>\n",
       "    <tr>\n",
       "      <th>1</th>\n",
       "      <td>NaN</td>\n",
       "      <td>NaN</td>\n",
       "      <td>NaN</td>\n",
       "      <td>NaN</td>\n",
       "      <td>NaN</td>\n",
       "      <td>NaN</td>\n",
       "    </tr>\n",
       "    <tr>\n",
       "      <th>2</th>\n",
       "      <td>176559.0</td>\n",
       "      <td>Bose SoundSport Headphones</td>\n",
       "      <td>1.0</td>\n",
       "      <td>99.99</td>\n",
       "      <td>4/7/2019 22:30</td>\n",
       "      <td>682 Chestnut St, Boston, MA 02215</td>\n",
       "    </tr>\n",
       "    <tr>\n",
       "      <th>3</th>\n",
       "      <td>176560.0</td>\n",
       "      <td>Google Phone</td>\n",
       "      <td>1.0</td>\n",
       "      <td>600.00</td>\n",
       "      <td>4/12/2019 14:38</td>\n",
       "      <td>669 Spruce St, Los Angeles, CA 90001</td>\n",
       "    </tr>\n",
       "    <tr>\n",
       "      <th>4</th>\n",
       "      <td>176560.0</td>\n",
       "      <td>Wired Headphones</td>\n",
       "      <td>1.0</td>\n",
       "      <td>11.99</td>\n",
       "      <td>4/12/2019 14:38</td>\n",
       "      <td>669 Spruce St, Los Angeles, CA 90001</td>\n",
       "    </tr>\n",
       "    <tr>\n",
       "      <th>...</th>\n",
       "      <td>...</td>\n",
       "      <td>...</td>\n",
       "      <td>...</td>\n",
       "      <td>...</td>\n",
       "      <td>...</td>\n",
       "      <td>...</td>\n",
       "    </tr>\n",
       "    <tr>\n",
       "      <th>11681</th>\n",
       "      <td>259353.0</td>\n",
       "      <td>AAA Batteries (4-pack)</td>\n",
       "      <td>3.0</td>\n",
       "      <td>2.99</td>\n",
       "      <td>9/17/2019 20:56</td>\n",
       "      <td>840 Highland St, Los Angeles, CA 90001</td>\n",
       "    </tr>\n",
       "    <tr>\n",
       "      <th>11682</th>\n",
       "      <td>259354.0</td>\n",
       "      <td>iPhone</td>\n",
       "      <td>1.0</td>\n",
       "      <td>700.00</td>\n",
       "      <td>9/1/2019 16:00</td>\n",
       "      <td>216 Dogwood St, San Francisco, CA 94016</td>\n",
       "    </tr>\n",
       "    <tr>\n",
       "      <th>11683</th>\n",
       "      <td>259355.0</td>\n",
       "      <td>iPhone</td>\n",
       "      <td>1.0</td>\n",
       "      <td>700.00</td>\n",
       "      <td>9/23/2019 7:39</td>\n",
       "      <td>220 12th St, San Francisco, CA 94016</td>\n",
       "    </tr>\n",
       "    <tr>\n",
       "      <th>11684</th>\n",
       "      <td>259356.0</td>\n",
       "      <td>34in Ultrawide Monitor</td>\n",
       "      <td>1.0</td>\n",
       "      <td>379.99</td>\n",
       "      <td>9/19/2019 17:30</td>\n",
       "      <td>511 Forest St, San Francisco, CA 94016</td>\n",
       "    </tr>\n",
       "    <tr>\n",
       "      <th>11685</th>\n",
       "      <td>259357.0</td>\n",
       "      <td>USB-C Charging Cable</td>\n",
       "      <td>1.0</td>\n",
       "      <td>11.95</td>\n",
       "      <td>9/30/2019 0:18</td>\n",
       "      <td>250 Meadow St, San Francisco, CA 94016</td>\n",
       "    </tr>\n",
       "  </tbody>\n",
       "</table>\n",
       "<p>186850 rows × 6 columns</p>\n",
       "</div>"
      ],
      "text/plain": [
       "       Order ID                     Product  Quantity Ordered  Price Each  \\\n",
       "0      176558.0        USB-C Charging Cable               2.0       11.95   \n",
       "1           NaN                         NaN               NaN         NaN   \n",
       "2      176559.0  Bose SoundSport Headphones               1.0       99.99   \n",
       "3      176560.0                Google Phone               1.0      600.00   \n",
       "4      176560.0            Wired Headphones               1.0       11.99   \n",
       "...         ...                         ...               ...         ...   \n",
       "11681  259353.0      AAA Batteries (4-pack)               3.0        2.99   \n",
       "11682  259354.0                      iPhone               1.0      700.00   \n",
       "11683  259355.0                      iPhone               1.0      700.00   \n",
       "11684  259356.0      34in Ultrawide Monitor               1.0      379.99   \n",
       "11685  259357.0        USB-C Charging Cable               1.0       11.95   \n",
       "\n",
       "            Order Date                         Purchase Address  \n",
       "0       4/19/2019 8:46             917 1st St, Dallas, TX 75001  \n",
       "1                  NaN                                      NaN  \n",
       "2       4/7/2019 22:30        682 Chestnut St, Boston, MA 02215  \n",
       "3      4/12/2019 14:38     669 Spruce St, Los Angeles, CA 90001  \n",
       "4      4/12/2019 14:38     669 Spruce St, Los Angeles, CA 90001  \n",
       "...                ...                                      ...  \n",
       "11681  9/17/2019 20:56   840 Highland St, Los Angeles, CA 90001  \n",
       "11682   9/1/2019 16:00  216 Dogwood St, San Francisco, CA 94016  \n",
       "11683   9/23/2019 7:39     220 12th St, San Francisco, CA 94016  \n",
       "11684  9/19/2019 17:30   511 Forest St, San Francisco, CA 94016  \n",
       "11685   9/30/2019 0:18   250 Meadow St, San Francisco, CA 94016  \n",
       "\n",
       "[186850 rows x 6 columns]"
      ]
     },
     "execution_count": 4,
     "metadata": {},
     "output_type": "execute_result"
    }
   ],
   "source": [
    "# displaying data of totalYearSales dataframetotalYearSales\n",
    "totalYearSales"
   ]
  },
  {
   "cell_type": "markdown",
   "id": "8b6688a0",
   "metadata": {},
   "source": [
    "<b> 1.2 Write a python program to remove the NaN missing values from updated dataframe. "
   ]
  },
  {
   "cell_type": "code",
   "execution_count": 5,
   "id": "4e0db443",
   "metadata": {},
   "outputs": [
    {
     "data": {
      "text/plain": [
       "Order ID            900\n",
       "Product             900\n",
       "Quantity Ordered    900\n",
       "Price Each          900\n",
       "Order Date          900\n",
       "Purchase Address    900\n",
       "dtype: int64"
      ]
     },
     "execution_count": 5,
     "metadata": {},
     "output_type": "execute_result"
    }
   ],
   "source": [
    "# displaying all null values in every columns\n",
    "totalYearSales.isnull().sum()"
   ]
  },
  {
   "cell_type": "code",
   "execution_count": 6,
   "id": "1081cc01",
   "metadata": {},
   "outputs": [
    {
     "data": {
      "text/html": [
       "<div>\n",
       "<style scoped>\n",
       "    .dataframe tbody tr th:only-of-type {\n",
       "        vertical-align: middle;\n",
       "    }\n",
       "\n",
       "    .dataframe tbody tr th {\n",
       "        vertical-align: top;\n",
       "    }\n",
       "\n",
       "    .dataframe thead th {\n",
       "        text-align: right;\n",
       "    }\n",
       "</style>\n",
       "<table border=\"1\" class=\"dataframe\">\n",
       "  <thead>\n",
       "    <tr style=\"text-align: right;\">\n",
       "      <th></th>\n",
       "      <th>Order ID</th>\n",
       "      <th>Product</th>\n",
       "      <th>Quantity Ordered</th>\n",
       "      <th>Price Each</th>\n",
       "      <th>Order Date</th>\n",
       "      <th>Purchase Address</th>\n",
       "    </tr>\n",
       "  </thead>\n",
       "  <tbody>\n",
       "    <tr>\n",
       "      <th>0</th>\n",
       "      <td>False</td>\n",
       "      <td>False</td>\n",
       "      <td>False</td>\n",
       "      <td>False</td>\n",
       "      <td>False</td>\n",
       "      <td>False</td>\n",
       "    </tr>\n",
       "    <tr>\n",
       "      <th>1</th>\n",
       "      <td>True</td>\n",
       "      <td>True</td>\n",
       "      <td>True</td>\n",
       "      <td>True</td>\n",
       "      <td>True</td>\n",
       "      <td>True</td>\n",
       "    </tr>\n",
       "    <tr>\n",
       "      <th>2</th>\n",
       "      <td>False</td>\n",
       "      <td>False</td>\n",
       "      <td>False</td>\n",
       "      <td>False</td>\n",
       "      <td>False</td>\n",
       "      <td>False</td>\n",
       "    </tr>\n",
       "    <tr>\n",
       "      <th>3</th>\n",
       "      <td>False</td>\n",
       "      <td>False</td>\n",
       "      <td>False</td>\n",
       "      <td>False</td>\n",
       "      <td>False</td>\n",
       "      <td>False</td>\n",
       "    </tr>\n",
       "    <tr>\n",
       "      <th>4</th>\n",
       "      <td>False</td>\n",
       "      <td>False</td>\n",
       "      <td>False</td>\n",
       "      <td>False</td>\n",
       "      <td>False</td>\n",
       "      <td>False</td>\n",
       "    </tr>\n",
       "    <tr>\n",
       "      <th>...</th>\n",
       "      <td>...</td>\n",
       "      <td>...</td>\n",
       "      <td>...</td>\n",
       "      <td>...</td>\n",
       "      <td>...</td>\n",
       "      <td>...</td>\n",
       "    </tr>\n",
       "    <tr>\n",
       "      <th>11681</th>\n",
       "      <td>False</td>\n",
       "      <td>False</td>\n",
       "      <td>False</td>\n",
       "      <td>False</td>\n",
       "      <td>False</td>\n",
       "      <td>False</td>\n",
       "    </tr>\n",
       "    <tr>\n",
       "      <th>11682</th>\n",
       "      <td>False</td>\n",
       "      <td>False</td>\n",
       "      <td>False</td>\n",
       "      <td>False</td>\n",
       "      <td>False</td>\n",
       "      <td>False</td>\n",
       "    </tr>\n",
       "    <tr>\n",
       "      <th>11683</th>\n",
       "      <td>False</td>\n",
       "      <td>False</td>\n",
       "      <td>False</td>\n",
       "      <td>False</td>\n",
       "      <td>False</td>\n",
       "      <td>False</td>\n",
       "    </tr>\n",
       "    <tr>\n",
       "      <th>11684</th>\n",
       "      <td>False</td>\n",
       "      <td>False</td>\n",
       "      <td>False</td>\n",
       "      <td>False</td>\n",
       "      <td>False</td>\n",
       "      <td>False</td>\n",
       "    </tr>\n",
       "    <tr>\n",
       "      <th>11685</th>\n",
       "      <td>False</td>\n",
       "      <td>False</td>\n",
       "      <td>False</td>\n",
       "      <td>False</td>\n",
       "      <td>False</td>\n",
       "      <td>False</td>\n",
       "    </tr>\n",
       "  </tbody>\n",
       "</table>\n",
       "<p>186850 rows × 6 columns</p>\n",
       "</div>"
      ],
      "text/plain": [
       "       Order ID  Product  Quantity Ordered  Price Each  Order Date  \\\n",
       "0         False    False             False       False       False   \n",
       "1          True     True              True        True        True   \n",
       "2         False    False             False       False       False   \n",
       "3         False    False             False       False       False   \n",
       "4         False    False             False       False       False   \n",
       "...         ...      ...               ...         ...         ...   \n",
       "11681     False    False             False       False       False   \n",
       "11682     False    False             False       False       False   \n",
       "11683     False    False             False       False       False   \n",
       "11684     False    False             False       False       False   \n",
       "11685     False    False             False       False       False   \n",
       "\n",
       "       Purchase Address  \n",
       "0                 False  \n",
       "1                  True  \n",
       "2                 False  \n",
       "3                 False  \n",
       "4                 False  \n",
       "...                 ...  \n",
       "11681             False  \n",
       "11682             False  \n",
       "11683             False  \n",
       "11684             False  \n",
       "11685             False  \n",
       "\n",
       "[186850 rows x 6 columns]"
      ]
     },
     "execution_count": 6,
     "metadata": {},
     "output_type": "execute_result"
    }
   ],
   "source": [
    "# displaying if rows have null values\n",
    "totalYearSales.isna()"
   ]
  },
  {
   "cell_type": "code",
   "execution_count": 7,
   "id": "ce1b893e",
   "metadata": {},
   "outputs": [
    {
     "data": {
      "text/plain": [
       "Order ID            0\n",
       "Product             0\n",
       "Quantity Ordered    0\n",
       "Price Each          0\n",
       "Order Date          0\n",
       "Purchase Address    0\n",
       "dtype: int64"
      ]
     },
     "execution_count": 7,
     "metadata": {},
     "output_type": "execute_result"
    }
   ],
   "source": [
    "# dropping every null values adn displaying them \n",
    "totalYearSales = totalYearSales.dropna(how='all')\n",
    "totalYearSales.isnull().sum()"
   ]
  },
  {
   "cell_type": "code",
   "execution_count": 8,
   "id": "191b8659",
   "metadata": {},
   "outputs": [
    {
     "data": {
      "text/html": [
       "<div>\n",
       "<style scoped>\n",
       "    .dataframe tbody tr th:only-of-type {\n",
       "        vertical-align: middle;\n",
       "    }\n",
       "\n",
       "    .dataframe tbody tr th {\n",
       "        vertical-align: top;\n",
       "    }\n",
       "\n",
       "    .dataframe thead th {\n",
       "        text-align: right;\n",
       "    }\n",
       "</style>\n",
       "<table border=\"1\" class=\"dataframe\">\n",
       "  <thead>\n",
       "    <tr style=\"text-align: right;\">\n",
       "      <th></th>\n",
       "      <th>Order ID</th>\n",
       "      <th>Product</th>\n",
       "      <th>Quantity Ordered</th>\n",
       "      <th>Price Each</th>\n",
       "      <th>Order Date</th>\n",
       "      <th>Purchase Address</th>\n",
       "    </tr>\n",
       "  </thead>\n",
       "  <tbody>\n",
       "    <tr>\n",
       "      <th>0</th>\n",
       "      <td>False</td>\n",
       "      <td>False</td>\n",
       "      <td>False</td>\n",
       "      <td>False</td>\n",
       "      <td>False</td>\n",
       "      <td>False</td>\n",
       "    </tr>\n",
       "    <tr>\n",
       "      <th>2</th>\n",
       "      <td>False</td>\n",
       "      <td>False</td>\n",
       "      <td>False</td>\n",
       "      <td>False</td>\n",
       "      <td>False</td>\n",
       "      <td>False</td>\n",
       "    </tr>\n",
       "    <tr>\n",
       "      <th>3</th>\n",
       "      <td>False</td>\n",
       "      <td>False</td>\n",
       "      <td>False</td>\n",
       "      <td>False</td>\n",
       "      <td>False</td>\n",
       "      <td>False</td>\n",
       "    </tr>\n",
       "    <tr>\n",
       "      <th>4</th>\n",
       "      <td>False</td>\n",
       "      <td>False</td>\n",
       "      <td>False</td>\n",
       "      <td>False</td>\n",
       "      <td>False</td>\n",
       "      <td>False</td>\n",
       "    </tr>\n",
       "    <tr>\n",
       "      <th>5</th>\n",
       "      <td>False</td>\n",
       "      <td>False</td>\n",
       "      <td>False</td>\n",
       "      <td>False</td>\n",
       "      <td>False</td>\n",
       "      <td>False</td>\n",
       "    </tr>\n",
       "    <tr>\n",
       "      <th>...</th>\n",
       "      <td>...</td>\n",
       "      <td>...</td>\n",
       "      <td>...</td>\n",
       "      <td>...</td>\n",
       "      <td>...</td>\n",
       "      <td>...</td>\n",
       "    </tr>\n",
       "    <tr>\n",
       "      <th>11681</th>\n",
       "      <td>False</td>\n",
       "      <td>False</td>\n",
       "      <td>False</td>\n",
       "      <td>False</td>\n",
       "      <td>False</td>\n",
       "      <td>False</td>\n",
       "    </tr>\n",
       "    <tr>\n",
       "      <th>11682</th>\n",
       "      <td>False</td>\n",
       "      <td>False</td>\n",
       "      <td>False</td>\n",
       "      <td>False</td>\n",
       "      <td>False</td>\n",
       "      <td>False</td>\n",
       "    </tr>\n",
       "    <tr>\n",
       "      <th>11683</th>\n",
       "      <td>False</td>\n",
       "      <td>False</td>\n",
       "      <td>False</td>\n",
       "      <td>False</td>\n",
       "      <td>False</td>\n",
       "      <td>False</td>\n",
       "    </tr>\n",
       "    <tr>\n",
       "      <th>11684</th>\n",
       "      <td>False</td>\n",
       "      <td>False</td>\n",
       "      <td>False</td>\n",
       "      <td>False</td>\n",
       "      <td>False</td>\n",
       "      <td>False</td>\n",
       "    </tr>\n",
       "    <tr>\n",
       "      <th>11685</th>\n",
       "      <td>False</td>\n",
       "      <td>False</td>\n",
       "      <td>False</td>\n",
       "      <td>False</td>\n",
       "      <td>False</td>\n",
       "      <td>False</td>\n",
       "    </tr>\n",
       "  </tbody>\n",
       "</table>\n",
       "<p>185950 rows × 6 columns</p>\n",
       "</div>"
      ],
      "text/plain": [
       "       Order ID  Product  Quantity Ordered  Price Each  Order Date  \\\n",
       "0         False    False             False       False       False   \n",
       "2         False    False             False       False       False   \n",
       "3         False    False             False       False       False   \n",
       "4         False    False             False       False       False   \n",
       "5         False    False             False       False       False   \n",
       "...         ...      ...               ...         ...         ...   \n",
       "11681     False    False             False       False       False   \n",
       "11682     False    False             False       False       False   \n",
       "11683     False    False             False       False       False   \n",
       "11684     False    False             False       False       False   \n",
       "11685     False    False             False       False       False   \n",
       "\n",
       "       Purchase Address  \n",
       "0                 False  \n",
       "2                 False  \n",
       "3                 False  \n",
       "4                 False  \n",
       "5                 False  \n",
       "...                 ...  \n",
       "11681             False  \n",
       "11682             False  \n",
       "11683             False  \n",
       "11684             False  \n",
       "11685             False  \n",
       "\n",
       "[185950 rows x 6 columns]"
      ]
     },
     "execution_count": 8,
     "metadata": {},
     "output_type": "execute_result"
    }
   ],
   "source": [
    "# displaying if rows have null values\n",
    "totalYearSales.isna()"
   ]
  },
  {
   "cell_type": "markdown",
   "id": "efa81ec4",
   "metadata": {},
   "source": [
    "<b> 1.3 Write a python program to convert Quantity Ordered and Price Each to numeric. "
   ]
  },
  {
   "cell_type": "code",
   "execution_count": 9,
   "id": "120a8eec",
   "metadata": {},
   "outputs": [
    {
     "data": {
      "text/plain": [
       "Order ID            float64\n",
       "Product              object\n",
       "Quantity Ordered    float64\n",
       "Price Each          float64\n",
       "Order Date           object\n",
       "Purchase Address     object\n",
       "dtype: object"
      ]
     },
     "execution_count": 9,
     "metadata": {},
     "output_type": "execute_result"
    }
   ],
   "source": [
    "# displaying all columns data type\n",
    "totalYearSales.dtypes"
   ]
  },
  {
   "cell_type": "code",
   "execution_count": 10,
   "id": "b357c49c",
   "metadata": {},
   "outputs": [
    {
     "data": {
      "text/plain": [
       "Order ID            float64\n",
       "Product              object\n",
       "Quantity Ordered      int32\n",
       "Price Each            int32\n",
       "Order Date           object\n",
       "Purchase Address     object\n",
       "dtype: object"
      ]
     },
     "execution_count": 10,
     "metadata": {},
     "output_type": "execute_result"
    }
   ],
   "source": [
    "# converting data type of Quantity Ordered and Price Each to int\n",
    "totalYearSales['Quantity Ordered'] = totalYearSales['Quantity Ordered'].astype(int)\n",
    "totalYearSales['Price Each'] = totalYearSales['Price Each'].astype(int)\n",
    "totalYearSales.dtypes"
   ]
  },
  {
   "cell_type": "markdown",
   "id": "feb3e514",
   "metadata": {},
   "source": [
    "<b> 1.4 Create a new column named Month from Ordered Date of updated dataframe and convert it to integer as data type."
   ]
  },
  {
   "cell_type": "code",
   "execution_count": 11,
   "id": "47a8eefb",
   "metadata": {},
   "outputs": [
    {
     "data": {
      "text/html": [
       "<div>\n",
       "<style scoped>\n",
       "    .dataframe tbody tr th:only-of-type {\n",
       "        vertical-align: middle;\n",
       "    }\n",
       "\n",
       "    .dataframe tbody tr th {\n",
       "        vertical-align: top;\n",
       "    }\n",
       "\n",
       "    .dataframe thead th {\n",
       "        text-align: right;\n",
       "    }\n",
       "</style>\n",
       "<table border=\"1\" class=\"dataframe\">\n",
       "  <thead>\n",
       "    <tr style=\"text-align: right;\">\n",
       "      <th></th>\n",
       "      <th>Order ID</th>\n",
       "      <th>Product</th>\n",
       "      <th>Quantity Ordered</th>\n",
       "      <th>Price Each</th>\n",
       "      <th>Order Date</th>\n",
       "      <th>Purchase Address</th>\n",
       "      <th>Month</th>\n",
       "    </tr>\n",
       "  </thead>\n",
       "  <tbody>\n",
       "    <tr>\n",
       "      <th>0</th>\n",
       "      <td>176558.0</td>\n",
       "      <td>USB-C Charging Cable</td>\n",
       "      <td>2</td>\n",
       "      <td>11</td>\n",
       "      <td>4/19/2019 8:46</td>\n",
       "      <td>917 1st St, Dallas, TX 75001</td>\n",
       "      <td>4</td>\n",
       "    </tr>\n",
       "    <tr>\n",
       "      <th>2</th>\n",
       "      <td>176559.0</td>\n",
       "      <td>Bose SoundSport Headphones</td>\n",
       "      <td>1</td>\n",
       "      <td>99</td>\n",
       "      <td>4/7/2019 22:30</td>\n",
       "      <td>682 Chestnut St, Boston, MA 02215</td>\n",
       "      <td>4</td>\n",
       "    </tr>\n",
       "    <tr>\n",
       "      <th>3</th>\n",
       "      <td>176560.0</td>\n",
       "      <td>Google Phone</td>\n",
       "      <td>1</td>\n",
       "      <td>600</td>\n",
       "      <td>4/12/2019 14:38</td>\n",
       "      <td>669 Spruce St, Los Angeles, CA 90001</td>\n",
       "      <td>4</td>\n",
       "    </tr>\n",
       "    <tr>\n",
       "      <th>4</th>\n",
       "      <td>176560.0</td>\n",
       "      <td>Wired Headphones</td>\n",
       "      <td>1</td>\n",
       "      <td>11</td>\n",
       "      <td>4/12/2019 14:38</td>\n",
       "      <td>669 Spruce St, Los Angeles, CA 90001</td>\n",
       "      <td>4</td>\n",
       "    </tr>\n",
       "    <tr>\n",
       "      <th>5</th>\n",
       "      <td>176561.0</td>\n",
       "      <td>Wired Headphones</td>\n",
       "      <td>1</td>\n",
       "      <td>11</td>\n",
       "      <td>4/30/2019 9:27</td>\n",
       "      <td>333 8th St, Los Angeles, CA 90001</td>\n",
       "      <td>4</td>\n",
       "    </tr>\n",
       "  </tbody>\n",
       "</table>\n",
       "</div>"
      ],
      "text/plain": [
       "   Order ID                     Product  Quantity Ordered  Price Each  \\\n",
       "0  176558.0        USB-C Charging Cable                 2          11   \n",
       "2  176559.0  Bose SoundSport Headphones                 1          99   \n",
       "3  176560.0                Google Phone                 1         600   \n",
       "4  176560.0            Wired Headphones                 1          11   \n",
       "5  176561.0            Wired Headphones                 1          11   \n",
       "\n",
       "        Order Date                      Purchase Address  Month  \n",
       "0   4/19/2019 8:46          917 1st St, Dallas, TX 75001      4  \n",
       "2   4/7/2019 22:30     682 Chestnut St, Boston, MA 02215      4  \n",
       "3  4/12/2019 14:38  669 Spruce St, Los Angeles, CA 90001      4  \n",
       "4  4/12/2019 14:38  669 Spruce St, Los Angeles, CA 90001      4  \n",
       "5   4/30/2019 9:27     333 8th St, Los Angeles, CA 90001      4  "
      ]
     },
     "execution_count": 11,
     "metadata": {},
     "output_type": "execute_result"
    }
   ],
   "source": [
    "# Creating a new column Month and storing only month from Order Date column in it\n",
    "totalYearSales['Month'] = totalYearSales['Order Date'].str.split('/').str[0].astype(int)\n",
    "totalYearSales.head()"
   ]
  },
  {
   "cell_type": "markdown",
   "id": "70edce59",
   "metadata": {},
   "source": [
    "<b> 1.5 Create a new column named City from Purchase Address based on the value in updated dataframe."
   ]
  },
  {
   "cell_type": "code",
   "execution_count": 12,
   "id": "6bfbc130",
   "metadata": {},
   "outputs": [
    {
     "data": {
      "text/html": [
       "<div>\n",
       "<style scoped>\n",
       "    .dataframe tbody tr th:only-of-type {\n",
       "        vertical-align: middle;\n",
       "    }\n",
       "\n",
       "    .dataframe tbody tr th {\n",
       "        vertical-align: top;\n",
       "    }\n",
       "\n",
       "    .dataframe thead th {\n",
       "        text-align: right;\n",
       "    }\n",
       "</style>\n",
       "<table border=\"1\" class=\"dataframe\">\n",
       "  <thead>\n",
       "    <tr style=\"text-align: right;\">\n",
       "      <th></th>\n",
       "      <th>Order ID</th>\n",
       "      <th>Product</th>\n",
       "      <th>Quantity Ordered</th>\n",
       "      <th>Price Each</th>\n",
       "      <th>Order Date</th>\n",
       "      <th>Purchase Address</th>\n",
       "      <th>Month</th>\n",
       "      <th>City</th>\n",
       "    </tr>\n",
       "  </thead>\n",
       "  <tbody>\n",
       "    <tr>\n",
       "      <th>0</th>\n",
       "      <td>176558.0</td>\n",
       "      <td>USB-C Charging Cable</td>\n",
       "      <td>2</td>\n",
       "      <td>11</td>\n",
       "      <td>4/19/2019 8:46</td>\n",
       "      <td>917 1st St, Dallas, TX 75001</td>\n",
       "      <td>4</td>\n",
       "      <td>Dallas</td>\n",
       "    </tr>\n",
       "    <tr>\n",
       "      <th>2</th>\n",
       "      <td>176559.0</td>\n",
       "      <td>Bose SoundSport Headphones</td>\n",
       "      <td>1</td>\n",
       "      <td>99</td>\n",
       "      <td>4/7/2019 22:30</td>\n",
       "      <td>682 Chestnut St, Boston, MA 02215</td>\n",
       "      <td>4</td>\n",
       "      <td>Boston</td>\n",
       "    </tr>\n",
       "    <tr>\n",
       "      <th>3</th>\n",
       "      <td>176560.0</td>\n",
       "      <td>Google Phone</td>\n",
       "      <td>1</td>\n",
       "      <td>600</td>\n",
       "      <td>4/12/2019 14:38</td>\n",
       "      <td>669 Spruce St, Los Angeles, CA 90001</td>\n",
       "      <td>4</td>\n",
       "      <td>Los Angeles</td>\n",
       "    </tr>\n",
       "    <tr>\n",
       "      <th>4</th>\n",
       "      <td>176560.0</td>\n",
       "      <td>Wired Headphones</td>\n",
       "      <td>1</td>\n",
       "      <td>11</td>\n",
       "      <td>4/12/2019 14:38</td>\n",
       "      <td>669 Spruce St, Los Angeles, CA 90001</td>\n",
       "      <td>4</td>\n",
       "      <td>Los Angeles</td>\n",
       "    </tr>\n",
       "    <tr>\n",
       "      <th>5</th>\n",
       "      <td>176561.0</td>\n",
       "      <td>Wired Headphones</td>\n",
       "      <td>1</td>\n",
       "      <td>11</td>\n",
       "      <td>4/30/2019 9:27</td>\n",
       "      <td>333 8th St, Los Angeles, CA 90001</td>\n",
       "      <td>4</td>\n",
       "      <td>Los Angeles</td>\n",
       "    </tr>\n",
       "  </tbody>\n",
       "</table>\n",
       "</div>"
      ],
      "text/plain": [
       "   Order ID                     Product  Quantity Ordered  Price Each  \\\n",
       "0  176558.0        USB-C Charging Cable                 2          11   \n",
       "2  176559.0  Bose SoundSport Headphones                 1          99   \n",
       "3  176560.0                Google Phone                 1         600   \n",
       "4  176560.0            Wired Headphones                 1          11   \n",
       "5  176561.0            Wired Headphones                 1          11   \n",
       "\n",
       "        Order Date                      Purchase Address  Month          City  \n",
       "0   4/19/2019 8:46          917 1st St, Dallas, TX 75001      4        Dallas  \n",
       "2   4/7/2019 22:30     682 Chestnut St, Boston, MA 02215      4        Boston  \n",
       "3  4/12/2019 14:38  669 Spruce St, Los Angeles, CA 90001      4   Los Angeles  \n",
       "4  4/12/2019 14:38  669 Spruce St, Los Angeles, CA 90001      4   Los Angeles  \n",
       "5   4/30/2019 9:27     333 8th St, Los Angeles, CA 90001      4   Los Angeles  "
      ]
     },
     "execution_count": 12,
     "metadata": {},
     "output_type": "execute_result"
    }
   ],
   "source": [
    "# Creating a new column City and storing only city names from Purchase Address column in it\n",
    "totalYearSales['City'] = totalYearSales['Purchase Address'].str.split(',').str[1]\n",
    "totalYearSales.head()"
   ]
  },
  {
   "cell_type": "markdown",
   "id": "b91d4227",
   "metadata": {},
   "source": [
    "# 2. Data Analysis"
   ]
  },
  {
   "cell_type": "markdown",
   "id": "66fa7061",
   "metadata": {},
   "source": [
    "<b> 2.1  Write a Python program to show summary statistics of sum, mean, standard deviation, skewness, and kurtosis of any chosen variable. "
   ]
  },
  {
   "cell_type": "code",
   "execution_count": 13,
   "id": "d51b7f36",
   "metadata": {},
   "outputs": [
    {
     "name": "stdout",
     "output_type": "stream",
     "text": [
      "The sum of Price Each is 34150278.00\n"
     ]
    }
   ],
   "source": [
    "# choosing a variable to analyze\n",
    "var = 'Price Each'\n",
    "# Calculating sum\n",
    "totalValue = totalYearSales[var].sum()\n",
    "# displaying sum of Price Each'\n",
    "print(f'The sum of {var} is {totalValue:.2f}')"
   ]
  },
  {
   "cell_type": "code",
   "execution_count": 14,
   "id": "dc9468eb",
   "metadata": {},
   "outputs": [
    {
     "name": "stdout",
     "output_type": "stream",
     "text": [
      "The mean of Price Each is 183.65\n"
     ]
    }
   ],
   "source": [
    "# Calculating mean\n",
    "meanValue = totalYearSales[var].mean()\n",
    "# displaying mean of Price Each'\n",
    "print(f'The mean of {var} is {meanValue:.2f}')"
   ]
  },
  {
   "cell_type": "code",
   "execution_count": 15,
   "id": "2bbedd64",
   "metadata": {},
   "outputs": [
    {
     "name": "stdout",
     "output_type": "stream",
     "text": [
      "The standard deviation of Price Each is 332.94\n"
     ]
    }
   ],
   "source": [
    "# Calculating standard deviation\n",
    "stdValue = totalYearSales[var].std()\n",
    "# displaying standard deviation of Price Each'\n",
    "print(f'The standard deviation of {var} is {stdValue:.2f}')"
   ]
  },
  {
   "cell_type": "code",
   "execution_count": 16,
   "id": "24376716",
   "metadata": {},
   "outputs": [
    {
     "name": "stdout",
     "output_type": "stream",
     "text": [
      "The skewness of Price Each is 2.87\n"
     ]
    }
   ],
   "source": [
    "# Calculating skewness\n",
    "skewValue = totalYearSales[var].skew()\n",
    "# displaying skewness of Price Each'\n",
    "print(f'The skewness of {var} is {skewValue:.2f}')"
   ]
  },
  {
   "cell_type": "code",
   "execution_count": 17,
   "id": "d0d98727",
   "metadata": {},
   "outputs": [
    {
     "name": "stdout",
     "output_type": "stream",
     "text": [
      "The kurtosis of Price Each is 9.09\n"
     ]
    }
   ],
   "source": [
    "# Calculating kurtosis\n",
    "kurtosisValue = totalYearSales[var].kurtosis()\n",
    "# displaying kurtosis of Price Each'\n",
    "print(f'The kurtosis of {var} is {kurtosisValue:.2f}')"
   ]
  },
  {
   "cell_type": "markdown",
   "id": "354aa723",
   "metadata": {},
   "source": [
    "<b> 2.2  Write a Python program to calculate and show correlation of all variables. "
   ]
  },
  {
   "cell_type": "code",
   "execution_count": 18,
   "id": "6c2957cf",
   "metadata": {},
   "outputs": [
    {
     "data": {
      "text/plain": [
       "Order ID            float64\n",
       "Product              object\n",
       "Quantity Ordered      int32\n",
       "Price Each            int32\n",
       "Order Date           object\n",
       "Purchase Address     object\n",
       "Month                 int32\n",
       "City                 object\n",
       "dtype: object"
      ]
     },
     "execution_count": 18,
     "metadata": {},
     "output_type": "execute_result"
    }
   ],
   "source": [
    "totalYearSales.dtypes"
   ]
  },
  {
   "cell_type": "code",
   "execution_count": 19,
   "id": "70e089ee",
   "metadata": {},
   "outputs": [
    {
     "data": {
      "image/png": "[encoded data removed]",
      "text/plain": [
       "<Figure size 640x480 with 2 Axes>"
      ]
     },
     "metadata": {},
     "output_type": "display_data"
    }
   ],
   "source": [
    "# Calculating correlation of totalYearSales DataFrame and assigning it to corr\n",
    "corr = totalYearSales.corr()\n",
    "# ploting the correlation matrix as a heatmap\n",
    "sns.heatmap(data=corr, cmap=\"YlGnBu\", annot=True, fmt=\".3f\")\n",
    "plt.title(\"Correlation\", fontsize = 20)\n",
    "# displaying the plot\n",
    "plt.show()"
   ]
  },
  {
   "cell_type": "markdown",
   "id": "3d9d09ea",
   "metadata": {},
   "source": [
    "# 3. Data Exploration"
   ]
  },
  {
   "cell_type": "markdown",
   "id": "09129e81",
   "metadata": {},
   "source": [
    "<b> 3.1 Which Month has the best sales? and how much was the earning in that month? Make a bar graph of sales as well."
   ]
  },
  {
   "cell_type": "code",
   "execution_count": 20,
   "id": "e8aa7a43",
   "metadata": {
    "scrolled": true
   },
   "outputs": [
    {
     "name": "stdout",
     "output_type": "stream",
     "text": [
      "Month\n",
      "1     1813956\n",
      "2     2191696\n",
      "3     2794068\n",
      "4     3374951\n",
      "5     3138287\n",
      "6     2566187\n",
      "7     2635443\n",
      "8     2234194\n",
      "9     2087435\n",
      "10    3719205\n",
      "11    3184394\n",
      "12    4591824\n",
      "Name: Sales, dtype: int32\n"
     ]
    }
   ],
   "source": [
    "# multiplying Quantity Ordered and Price Each and assiging it to Sales\n",
    "totalYearSales['Sales'] = totalYearSales['Quantity Ordered'] * totalYearSales['Price Each']\n",
    "# calculating the sum of sales for each month using the groupby() function and the sum() function\n",
    "Sales = totalYearSales.groupby('Month')['Sales'].sum()\n",
    "# displaying the total sales of each month\n",
    "print(Sales)"
   ]
  },
  {
   "cell_type": "code",
   "execution_count": 21,
   "id": "97c103af",
   "metadata": {
    "scrolled": false
   },
   "outputs": [
    {
     "data": {
      "image/png": "[encoded data removed]",
      "text/plain": [
       "<Figure size 1100x500 with 1 Axes>"
      ]
     },
     "metadata": {},
     "output_type": "display_data"
    }
   ],
   "source": [
    "fig = plt.figure(figsize=(11,5)) # creating new figure of (11,5) size\n",
    "bestSalesMonth = Sales.idxmax() # finding the month with highest sales\n",
    "colors = ['black'] * len(Sales) # setting bar color to black \n",
    "colors[Sales.index.get_loc(bestSalesMonth)] = 'red' # setting color of month with highest sell to red \n",
    "monthNames = [calendar.month_name[month] for month in Sales.index] # creating list of month names\n",
    "Sales.plot(kind='bar', color=colors) # creating a bar graph\n",
    "plt.xticks(range(len(monthNames)), monthNames, rotation=0, fontsize=8) # setting the x-axis tick labels to the month\n",
    "plt.xlabel('Month', fontsize=12) # setting the x-axis label to Month\n",
    "plt.ylabel('Total Sales', fontsize=12) # setting the y-axis label to Total Sales\n",
    "plt.title('Total Sales by Month', fontsize=20) # setting the title of the chart to Total Sales by Month\n",
    "plt.show() # displaying the graph"
   ]
  },
  {
   "cell_type": "markdown",
   "id": "6678de79",
   "metadata": {},
   "source": [
    "<b> 3.2 Which city has sold the highest product?"
   ]
  },
  {
   "cell_type": "code",
   "execution_count": 22,
   "id": "f9f20663",
   "metadata": {},
   "outputs": [
    {
     "name": "stdout",
     "output_type": "stream",
     "text": [
      "City\n",
      " San Francisco    50239\n",
      " Los Angeles      33289\n",
      " New York City    27932\n",
      " Boston           22528\n",
      " Dallas           16730\n",
      " Atlanta          16602\n",
      " Seattle          16553\n",
      " Portland         14053\n",
      " Austin           11153\n",
      "Name: Quantity Ordered, dtype: int32\n"
     ]
    }
   ],
   "source": [
    "# calculating city with their purchase\n",
    "citySales = totalYearSales.groupby('City')['Quantity Ordered'].sum().sort_values(ascending=False)\n",
    "# displaying city with sales\n",
    "print(citySales)"
   ]
  },
  {
   "cell_type": "code",
   "execution_count": 23,
   "id": "e6943260",
   "metadata": {},
   "outputs": [
    {
     "data": {
      "image/png": "[encoded data removed]",
      "text/plain": [
       "<Figure size 1100x500 with 1 Axes>"
      ]
     },
     "metadata": {},
     "output_type": "display_data"
    }
   ],
   "source": [
    "fig = plt.figure(figsize=(11,5)) # creating new figure of (11,5) size\n",
    "bestSalesCity = citySales.idxmax() # finding the city with highest product sold\n",
    "colors = ['black'] * len(citySales) # setting bar color to black \n",
    "colors[citySales.index.get_loc(bestSalesCity)] = 'red'# setting color of city with highest product sold to red\n",
    "plt.bar(list(citySales.keys()),list(citySales),color=colors) # plotting cities and products\n",
    "plt.xticks(rotation=0, fontsize=8) # setting rotation and fontsize of cities\n",
    "plt.title(\"Total products Sales by City\", fontsize=20) # setting the title of the chart to Total products sales by City\n",
    "plt.ylabel(\"No of Products\", fontsize=12) # setting the y-axis label to No of Products\n",
    "plt.xlabel(\"Name of Cities\", fontsize=12) # setting the y-axis label to Name of Cities\n",
    "plt.show() # displaying the graph "
   ]
  },
  {
   "cell_type": "markdown",
   "id": "f2afdbf8",
   "metadata": {},
   "source": [
    "<b> 3.3 Which product was sold the most in overall? Illustrate it through bar graph."
   ]
  },
  {
   "cell_type": "code",
   "execution_count": 24,
   "id": "f79bd783",
   "metadata": {},
   "outputs": [
    {
     "name": "stdout",
     "output_type": "stream",
     "text": [
      "Product\n",
      "AAA Batteries (4-pack)        31017\n",
      "AA Batteries (4-pack)         27635\n",
      "USB-C Charging Cable          23975\n",
      "Lightning Charging Cable      23217\n",
      "Wired Headphones              20557\n",
      "Apple Airpods Headphones      15661\n",
      "Bose SoundSport Headphones    13457\n",
      "27in FHD Monitor               7550\n",
      "iPhone                         6849\n",
      "27in 4K Gaming Monitor         6244\n",
      "34in Ultrawide Monitor         6199\n",
      "Google Phone                   5532\n",
      "Flatscreen TV                  4819\n",
      "Macbook Pro Laptop             4728\n",
      "ThinkPad Laptop                4130\n",
      "20in Monitor                   4129\n",
      "Vareebadd Phone                2068\n",
      "LG Washing Machine              666\n",
      "LG Dryer                        646\n",
      "Name: Quantity Ordered, dtype: int32\n"
     ]
    }
   ],
   "source": [
    "# calculating products sales\n",
    "productSales = totalYearSales.groupby('Product')['Quantity Ordered'].sum().sort_values(ascending=False)\n",
    "# displaying products and their total sales\n",
    "print(productSales)"
   ]
  },
  {
   "cell_type": "code",
   "execution_count": 25,
   "id": "8ac92713",
   "metadata": {},
   "outputs": [
    {
     "data": {
      "image/png": "[encoded data removed]",
      "text/plain": [
       "<Figure size 1100x500 with 1 Axes>"
      ]
     },
     "metadata": {},
     "output_type": "display_data"
    }
   ],
   "source": [
    "fig = plt.figure(figsize=(11,5)) # creating new figure of (11,5) size\n",
    "bestSalesProduct = productSales.idxmax() # finding the product which has most sold\n",
    "colors = ['black'] * len(productSales) # setting bar color to black \n",
    "colors[productSales.index.get_loc(bestSalesProduct)] = 'red' # setting color of the product which has most sold to red\n",
    "plt.bar(list(productSales.keys()),list(productSales),color=colors) # plotting products and their sales\n",
    "plt.xticks(rotation=90, fontsize=8) # setting rotation and fontsize of name of products\n",
    "plt.title(\"Total Sales of Products\", fontsize=20) # setting the title of the chart to Total Sales of Products\n",
    "plt.ylabel(\"Total Product Sales\", fontsize=12) # setting the y-axis label to Total Product Sales\n",
    "plt.xlabel(\"Name of Products\", fontsize=12) # setting the x-axis label to Name of Products\n",
    "plt.show() # displaying the graph "
   ]
  },
  {
   "cell_type": "markdown",
   "id": "9aa15c2b",
   "metadata": {},
   "source": [
    "<b> 3.4  Write a Python program to show histogram plot of any chosen variables. Use proper labels in the graph."
   ]
  },
  {
   "cell_type": "code",
   "execution_count": 26,
   "id": "78432ea1",
   "metadata": {},
   "outputs": [
    {
     "data": {
      "image/png": "[encoded data removed]",
      "text/plain": [
       "<Figure size 1000x500 with 1 Axes>"
      ]
     },
     "metadata": {},
     "output_type": "display_data"
    }
   ],
   "source": [
    "data = totalYearSales['City'] # selecting the 'City' column from the 'totalYearSales' and assigning it to data\n",
    "fig, cities = plt.subplots(figsize=(10, 5)) # creating a figure with (10,5) size\n",
    "cities.hist(data, bins=30, color='black') # creating a histogram with 30 bins using the 'data' series\n",
    "plt.xticks(fontsize=8) # setting font size of names of cities to 8\n",
    "cities.set_title(\"Histogram of City\") # setting the title of the chart to Histogram of City\n",
    "cities.set_xlabel(\"Names of Cities\") # setting the x-axis label to Name of cities\n",
    "cities.set_ylabel(\"Frequency\") # setting the y-axis label to frequency\n",
    "plt.show() # displaying the graph"
   ]
  },
  {
   "cell_type": "code",
   "execution_count": null,
   "id": "d0ee74c8",
   "metadata": {},
   "outputs": [],
   "source": []
  }
 ],
 "metadata": {
  "kernelspec": {
   "display_name": "Python 3 (ipykernel)",
   "language": "python",
   "name": "python3"
  },
  "language_info": {
   "codemirror_mode": {
    "name": "ipython",
    "version": 3
   },
   "file_extension": ".py",
   "mimetype": "text/x-python",
   "name": "python",
   "nbconvert_exporter": "python",
   "pygments_lexer": "ipython3",
   "version": "3.9.13"
  }
 },
 "nbformat": 4,
 "nbformat_minor": 5
}
